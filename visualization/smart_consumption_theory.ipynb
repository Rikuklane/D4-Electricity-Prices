{
 "cells": [
  {
   "cell_type": "code",
   "execution_count": 1,
   "metadata": {
    "pycharm": {
     "is_executing": true,
     "name": "#%%\n"
    }
   },
   "outputs": [],
   "source": [
    "# imports\n",
    "import pandas as pd\n",
    "import os\n",
    "import matplotlib.pyplot as plt\n",
    "import plotly.graph_objects as go\n",
    "from plotly.subplots import make_subplots\n",
    "# allows to output plots in the notebook\n",
    "%matplotlib inline"
   ]
  },
  {
   "cell_type": "code",
   "execution_count": 2,
   "metadata": {
    "pycharm": {
     "is_executing": true,
     "name": "#%%\n"
    }
   },
   "outputs": [],
   "source": [
    "# changing to correct directory\n",
    "# DO NOT RUN A SECOND TIME (Restart & Run All is allowed)\n",
    "os.chdir(\"..\")"
   ]
  },
  {
   "cell_type": "markdown",
   "metadata": {},
   "source": [
    "## Figuring out when is electricity the cheapest\n",
    " - Current dateTime format is CET (UTC+1).\n",
    " - Estonia has UTC+2 in the winter and UTC+3 in the summer\n",
    " - Finding the right hours\n",
    "    - This can be done most easily by grouping by hour and then checking which hours have the average lowest prices\n",
    "    - Also a bit more advanced would be to convert it into percentages and then find it by percentages (100% being the daily highest and 0 being 0%)\n",
    "    - Both approaches should give approx the same answer"
   ]
  },
  {
   "cell_type": "code",
   "execution_count": 3,
   "metadata": {
    "pycharm": {
     "is_executing": true,
     "name": "#%%\n"
    }
   },
   "outputs": [],
   "source": [
    "# reading in files\n",
    "nordpool = pd.read_csv(os.path.join(\"data\", \"processed\", \"nordpool_estonia.csv\"))\n",
    "nordpool.dropna(inplace=True)\n",
    "nordpool.drop_duplicates(inplace=True)\n",
    "hourly_average_prices = nordpool.groupby(by=\"Time\").mean().sort_values(by=\"elspot_price\", ascending=True)"
   ]
  },
  {
   "cell_type": "code",
   "execution_count": 7,
   "metadata": {
    "pycharm": {
     "is_executing": true,
     "name": "#%%\n"
    }
   },
   "outputs": [
    {
     "name": "stdout",
     "output_type": "stream",
     "text": [
      "\n",
      "------24 hour averages prices------\n",
      "\n",
      "None\n",
      "          elspot_price  consumption\n",
      "Time                               \n",
      "03:00:00     29.484725   727.456311\n",
      "02:00:00     29.855633   728.959043\n",
      "04:00:00     30.579450   748.294036\n",
      "01:00:00     31.052862   738.103098\n",
      "00:00:00     33.128391   756.391123\n",
      "23:00:00     33.891055   789.149861\n",
      "05:00:00     35.543865   829.700878\n",
      "22:00:00     38.954658   843.876503\n",
      "21:00:00     43.175930   914.427382\n",
      "06:00:00     44.638317   929.484512\n",
      "20:00:00     45.798002   974.071230\n",
      "15:00:00     47.416378  1033.007863\n",
      "14:00:00     47.617105  1036.206290\n",
      "16:00:00     49.040930  1034.375116\n",
      "13:00:00     49.476281  1037.664200\n",
      "12:00:00     50.907410  1049.492599\n",
      "11:00:00     51.366480  1039.021739\n",
      "19:00:00     51.604251  1005.958834\n",
      "17:00:00     51.993992  1033.172988\n",
      "07:00:00     52.115331  1015.620435\n",
      "10:00:00     53.026315  1053.034212\n",
      "18:00:00     53.903492  1023.717391\n",
      "09:00:00     55.216052  1058.705502\n",
      "08:00:00     56.591493  1053.954693\n",
      "\n",
      "------Lowest 8 hours of prices------\n",
      "\n",
      "None\n",
      "          elspot_price  consumption\n",
      "Time                               \n",
      "03:00:00     29.484725   727.456311\n",
      "02:00:00     29.855633   728.959043\n",
      "04:00:00     30.579450   748.294036\n",
      "01:00:00     31.052862   738.103098\n",
      "00:00:00     33.128391   756.391123\n",
      "23:00:00     33.891055   789.149861\n",
      "05:00:00     35.543865   829.700878\n",
      "22:00:00     38.954658   843.876503\n",
      "\n",
      "------Lowest 6 hours of prices------\n",
      "\n",
      "None\n",
      "          elspot_price  consumption\n",
      "Time                               \n",
      "03:00:00     29.484725   727.456311\n",
      "02:00:00     29.855633   728.959043\n",
      "04:00:00     30.579450   748.294036\n",
      "01:00:00     31.052862   738.103098\n",
      "00:00:00     33.128391   756.391123\n",
      "23:00:00     33.891055   789.149861\n"
     ]
    }
   ],
   "source": [
    "# just cool functions\n",
    "def printFancyLine(message:str):\n",
    "    print(f\"\\n------{message}------\\n\")"
   ]
  },
  {
   "cell_type": "code",
   "execution_count": null,
   "outputs": [],
   "source": [
    "# Viewing hourly average prices and the cheapest among them\n",
    "print(printFancyLine(\"24 hour averages prices\"))\n",
    "print(hourly_average_prices)\n",
    "\n",
    "print(printFancyLine(\"Lowest 8 hours of prices\"))\n",
    "print(hourly_average_prices[:8])\n",
    "\n",
    "print(printFancyLine(\"Lowest 6 hours of prices\"))\n",
    "print(hourly_average_prices[:6])"
   ],
   "metadata": {
    "collapsed": false,
    "pycharm": {
     "name": "#%%\n"
    }
   }
  },
  {
   "cell_type": "code",
   "execution_count": null,
   "outputs": [],
   "source": [
    "# Viewing hourly average percentages of prices and the lowest among them"
   ],
   "metadata": {
    "collapsed": false,
    "pycharm": {
     "name": "#%%\n"
    }
   }
  },
  {
   "cell_type": "markdown",
   "metadata": {
    "pycharm": {
     "name": "#%% md\n"
    }
   },
   "source": [
    "## So what is the best time to use your electricity?\n",
    " - By hourly mean price (UTC+1)\n",
    "    - The most expensive price can be 2 times larger than the cheapest\n",
    "    - Cheapest 6 hours are 23:00-05:00\n",
    "        - Estonian winter time: 00:00-06:00\n",
    "        - Estonian summer time: 01:00-07:00\n",
    "    - Cheapest 8 hours are 22:00-06:00\n",
    "        - Estonian winter time: 23:00-07:00\n",
    "        - Estonian summer time: 00:00-08:00"
   ]
  }
 ],
 "metadata": {
  "kernelspec": {
   "display_name": "Python 3 (ipykernel)",
   "language": "python",
   "name": "python3"
  },
  "language_info": {
   "codemirror_mode": {
    "name": "ipython",
    "version": 3
   },
   "file_extension": ".py",
   "mimetype": "text/x-python",
   "name": "python",
   "nbconvert_exporter": "python",
   "pygments_lexer": "ipython3",
   "version": "3.8.12"
  }
 },
 "nbformat": 4,
 "nbformat_minor": 1
}